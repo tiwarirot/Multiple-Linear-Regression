{
 "cells": [
  {
   "cell_type": "code",
   "execution_count": null,
   "metadata": {},
   "outputs": [],
   "source": [
    "#Task\n",
    "#Andrea has a simple equation:\n",
    "                    #Y = a + b1*f1 + b1*f2 + ... + bm*fm\n",
    "#for (m+1) real constants (a, f1, f2,... , fm). We can say that the value of Y depends on m features. Andrea \n",
    "#studies this equation for n different feature sets (f1, f2, f3,..., fm) and records each respective value of Y. \n",
    "#If she has q new feature sets, can you help Andrea find the value of Y for each of the sets?\n",
    "#Note: You are not expected to account for bias and variance trade-offs."
   ]
  },
  {
   "cell_type": "code",
   "execution_count": 1,
   "metadata": {},
   "outputs": [],
   "source": [
    "import numpy as np"
   ]
  },
  {
   "cell_type": "code",
   "execution_count": 3,
   "metadata": {},
   "outputs": [
    {
     "name": "stdout",
     "output_type": "stream",
     "text": [
      "2 7\n"
     ]
    }
   ],
   "source": [
    "m,n = [int(i) for i in input().strip().split(' ')]"
   ]
  },
  {
   "cell_type": "code",
   "execution_count": 4,
   "metadata": {},
   "outputs": [
    {
     "name": "stdout",
     "output_type": "stream",
     "text": [
      "0.18 0.89 109.85\n",
      "1.0 0.26 155.72\n",
      "0.92 0.11 137.66\n",
      "0.07 0.37 76.17\n",
      "0.85 0.16 139.75\n",
      "0.99 0.41 162.6\n",
      "0.87 0.47 151.77\n"
     ]
    }
   ],
   "source": [
    "X = []\n",
    "Y = []\n",
    "for i in range(n):\n",
    "    data = input().strip().split(' ')\n",
    "    X.append(data[:m])\n",
    "    Y.append(data[m:])"
   ]
  },
  {
   "cell_type": "code",
   "execution_count": 5,
   "metadata": {},
   "outputs": [
    {
     "name": "stdout",
     "output_type": "stream",
     "text": [
      "4\n"
     ]
    }
   ],
   "source": [
    "q = int(input().strip())"
   ]
  },
  {
   "cell_type": "code",
   "execution_count": 6,
   "metadata": {},
   "outputs": [
    {
     "name": "stdout",
     "output_type": "stream",
     "text": [
      "0.49 0.18\n",
      "0.57 0.83\n",
      "0.56 0.64\n",
      "0.76 0.18\n"
     ]
    }
   ],
   "source": [
    "X_new = []\n",
    "for x in range(q):\n",
    "    X_new.append(input().strip().split(' '))"
   ]
  },
  {
   "cell_type": "code",
   "execution_count": 7,
   "metadata": {},
   "outputs": [],
   "source": [
    "X = np.array(X, float)\n",
    "Y = np.array(Y, float)\n",
    "X_new = np.array(X_new, float)"
   ]
  },
  {
   "cell_type": "code",
   "execution_count": 8,
   "metadata": {},
   "outputs": [
    {
     "name": "stdout",
     "output_type": "stream",
     "text": [
      "[[-0.51714286  0.50857143]\n",
      " [ 0.30285714 -0.12142857]\n",
      " [ 0.22285714 -0.27142857]\n",
      " [-0.62714286 -0.01142857]\n",
      " [ 0.15285714 -0.22142857]\n",
      " [ 0.29285714  0.02857143]\n",
      " [ 0.17285714  0.08857143]]\n"
     ]
    }
   ],
   "source": [
    "#center\n",
    "X_R = X-np.mean(X,axis=0)\n",
    "print(X_R)"
   ]
  },
  {
   "cell_type": "code",
   "execution_count": 9,
   "metadata": {},
   "outputs": [
    {
     "name": "stdout",
     "output_type": "stream",
     "text": [
      "[[-23.51]\n",
      " [ 22.36]\n",
      " [  4.3 ]\n",
      " [-57.19]\n",
      " [  6.39]\n",
      " [ 29.24]\n",
      " [ 18.41]]\n"
     ]
    }
   ],
   "source": [
    "Y_R = Y-np.mean(Y)\n",
    "print(Y_R)"
   ]
  },
  {
   "cell_type": "code",
   "execution_count": 10,
   "metadata": {},
   "outputs": [
    {
     "name": "stdout",
     "output_type": "stream",
     "text": [
      "[[90.69331739]\n",
      " [46.46296549]]\n"
     ]
    }
   ],
   "source": [
    "#calculate beta\n",
    "beta = np.dot(np.linalg.inv(np.dot(X_R.T,X_R)),np.dot(X_R.T,Y_R))\n",
    "print(beta)"
   ]
  },
  {
   "cell_type": "code",
   "execution_count": 11,
   "metadata": {},
   "outputs": [
    {
     "name": "stdout",
     "output_type": "stream",
     "text": [
      "[[-0.20714286 -0.20142857]\n",
      " [-0.12714286  0.44857143]\n",
      " [-0.13714286  0.25857143]\n",
      " [ 0.06285714 -0.20142857]]\n",
      "[[-28.14544165]\n",
      " [  9.31095131]\n",
      " [ -0.42394531]\n",
      " [ -3.65824595]]\n",
      "[[105.21455835]\n",
      " [142.67095131]\n",
      " [132.93605469]\n",
      " [129.70175405]]\n"
     ]
    }
   ],
   "source": [
    "#predict\n",
    "X_new_R = X_new-np.mean(X,axis=0)\n",
    "print(X_new_R)\n",
    "Y_new_R = np.dot(X_new_R,beta)\n",
    "print(Y_new_R)\n",
    "Y_new = Y_new_R + np.mean(Y)\n",
    "print(Y_new)"
   ]
  },
  {
   "cell_type": "code",
   "execution_count": 12,
   "metadata": {},
   "outputs": [
    {
     "name": "stdout",
     "output_type": "stream",
     "text": [
      "105.21\n",
      "142.67\n",
      "132.94\n",
      "129.7\n"
     ]
    }
   ],
   "source": [
    "for i in Y_new:\n",
    "    print(round(float(i),2))"
   ]
  }
 ],
 "metadata": {
  "kernelspec": {
   "display_name": "Python 3",
   "language": "python",
   "name": "python3"
  },
  "language_info": {
   "codemirror_mode": {
    "name": "ipython",
    "version": 3
   },
   "file_extension": ".py",
   "mimetype": "text/x-python",
   "name": "python",
   "nbconvert_exporter": "python",
   "pygments_lexer": "ipython3",
   "version": "3.6.5"
  }
 },
 "nbformat": 4,
 "nbformat_minor": 2
}
