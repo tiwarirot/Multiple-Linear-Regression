{
 "cells": [
  {
   "cell_type": "code",
   "execution_count": 10,
   "metadata": {},
   "outputs": [
    {
     "name": "stdout",
     "output_type": "stream",
     "text": [
      "51.9535\n",
      "6.6512\n",
      "-11.1628\n"
     ]
    }
   ],
   "source": [
    "from sklearn.linear_model import LinearRegression\n",
    "x = [[5, 7], [6, 6], [7, 4], [8, 5], [9, 6]]\n",
    "y = [10, 20, 60, 40, 50]\n",
    "lm = LinearRegression()\n",
    "lm.fit(x,y)\n",
    "a = lm.intercept_\n",
    "b = lm.coef_\n",
    "print(round(a,4))\n",
    "print(round(b[0],4))\n",
    "print(round(b[1],4))"
   ]
  }
 ],
 "metadata": {
  "kernelspec": {
   "display_name": "Python 3",
   "language": "python",
   "name": "python3"
  },
  "language_info": {
   "codemirror_mode": {
    "name": "ipython",
    "version": 3
   },
   "file_extension": ".py",
   "mimetype": "text/x-python",
   "name": "python",
   "nbconvert_exporter": "python",
   "pygments_lexer": "ipython3",
   "version": "3.6.5"
  }
 },
 "nbformat": 4,
 "nbformat_minor": 2
}
